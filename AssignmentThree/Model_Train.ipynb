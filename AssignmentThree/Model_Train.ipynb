{
 "cells": [
  {
   "cell_type": "markdown",
   "id": "59eea0ed",
   "metadata": {},
   "source": [
    "# Training our model on our feature dataset in prep for insertion into A* heuristic"
   ]
  },
  {
   "cell_type": "markdown",
   "id": "12733d77",
   "metadata": {},
   "source": [
    "### Starting with a support vector machine"
   ]
  },
  {
   "cell_type": "code",
   "execution_count": 44,
   "id": "93dcfb43",
   "metadata": {},
   "outputs": [
    {
     "data": {
      "text/html": [
       "<div>\n",
       "<style scoped>\n",
       "    .dataframe tbody tr th:only-of-type {\n",
       "        vertical-align: middle;\n",
       "    }\n",
       "\n",
       "    .dataframe tbody tr th {\n",
       "        vertical-align: top;\n",
       "    }\n",
       "\n",
       "    .dataframe thead th {\n",
       "        text-align: right;\n",
       "    }\n",
       "</style>\n",
       "<table border=\"1\" class=\"dataframe\">\n",
       "  <thead>\n",
       "    <tr style=\"text-align: right;\">\n",
       "      <th></th>\n",
       "      <th>cost</th>\n",
       "      <th>heaviest queen weight</th>\n",
       "      <th>location of heaviest queen</th>\n",
       "      <th>lightest queen weight</th>\n",
       "      <th>location of lightest queen</th>\n",
       "      <th>initial conflicts</th>\n",
       "      <th>n</th>\n",
       "      <th>average value including 0</th>\n",
       "      <th>lightest in conflict</th>\n",
       "      <th>heaviest in conflict</th>\n",
       "      <th>average in conflict</th>\n",
       "      <th>smallest d in conflict</th>\n",
       "      <th>largest d in conflict</th>\n",
       "      <th>average d in conflict</th>\n",
       "      <th>row with most queens</th>\n",
       "      <th>row with least queens</th>\n",
       "      <th>num empty rows</th>\n",
       "      <th>most queens in row</th>\n",
       "      <th>least queens in row</th>\n",
       "      <th>avg queens in nonzero row</th>\n",
       "    </tr>\n",
       "  </thead>\n",
       "  <tbody>\n",
       "    <tr>\n",
       "      <th>0</th>\n",
       "      <td>37</td>\n",
       "      <td>8</td>\n",
       "      <td>(3, 1)</td>\n",
       "      <td>1</td>\n",
       "      <td>(0, 2)</td>\n",
       "      <td>6</td>\n",
       "      <td>4</td>\n",
       "      <td>1.0000</td>\n",
       "      <td>1</td>\n",
       "      <td>8</td>\n",
       "      <td>4.166667</td>\n",
       "      <td>1.414214</td>\n",
       "      <td>2.828427</td>\n",
       "      <td>2.357023</td>\n",
       "      <td>0</td>\n",
       "      <td>0</td>\n",
       "      <td>0</td>\n",
       "      <td>1</td>\n",
       "      <td>1</td>\n",
       "      <td>1</td>\n",
       "    </tr>\n",
       "    <tr>\n",
       "      <th>1</th>\n",
       "      <td>8</td>\n",
       "      <td>7</td>\n",
       "      <td>(0, 2)</td>\n",
       "      <td>2</td>\n",
       "      <td>(2, 3)</td>\n",
       "      <td>0</td>\n",
       "      <td>4</td>\n",
       "      <td>1.2500</td>\n",
       "      <td>0</td>\n",
       "      <td>0</td>\n",
       "      <td>0.000000</td>\n",
       "      <td>0.000000</td>\n",
       "      <td>0.000000</td>\n",
       "      <td>0.000000</td>\n",
       "      <td>0</td>\n",
       "      <td>0</td>\n",
       "      <td>0</td>\n",
       "      <td>1</td>\n",
       "      <td>1</td>\n",
       "      <td>1</td>\n",
       "    </tr>\n",
       "    <tr>\n",
       "      <th>2</th>\n",
       "      <td>82</td>\n",
       "      <td>6</td>\n",
       "      <td>(1, 0)</td>\n",
       "      <td>3</td>\n",
       "      <td>(3, 1)</td>\n",
       "      <td>2</td>\n",
       "      <td>4</td>\n",
       "      <td>1.1250</td>\n",
       "      <td>3</td>\n",
       "      <td>5</td>\n",
       "      <td>4.000000</td>\n",
       "      <td>1.414214</td>\n",
       "      <td>1.414214</td>\n",
       "      <td>1.414214</td>\n",
       "      <td>0</td>\n",
       "      <td>0</td>\n",
       "      <td>0</td>\n",
       "      <td>1</td>\n",
       "      <td>1</td>\n",
       "      <td>1</td>\n",
       "    </tr>\n",
       "    <tr>\n",
       "      <th>3</th>\n",
       "      <td>119</td>\n",
       "      <td>7</td>\n",
       "      <td>(2, 1)</td>\n",
       "      <td>3</td>\n",
       "      <td>(1, 2)</td>\n",
       "      <td>3</td>\n",
       "      <td>4</td>\n",
       "      <td>1.3125</td>\n",
       "      <td>3</td>\n",
       "      <td>7</td>\n",
       "      <td>5.000000</td>\n",
       "      <td>1.414214</td>\n",
       "      <td>4.242641</td>\n",
       "      <td>2.357023</td>\n",
       "      <td>0</td>\n",
       "      <td>0</td>\n",
       "      <td>0</td>\n",
       "      <td>1</td>\n",
       "      <td>1</td>\n",
       "      <td>1</td>\n",
       "    </tr>\n",
       "    <tr>\n",
       "      <th>4</th>\n",
       "      <td>72</td>\n",
       "      <td>8</td>\n",
       "      <td>(0, 1)</td>\n",
       "      <td>6</td>\n",
       "      <td>(3, 2)</td>\n",
       "      <td>0</td>\n",
       "      <td>4</td>\n",
       "      <td>1.8125</td>\n",
       "      <td>0</td>\n",
       "      <td>0</td>\n",
       "      <td>0.000000</td>\n",
       "      <td>0.000000</td>\n",
       "      <td>0.000000</td>\n",
       "      <td>0.000000</td>\n",
       "      <td>0</td>\n",
       "      <td>0</td>\n",
       "      <td>0</td>\n",
       "      <td>1</td>\n",
       "      <td>1</td>\n",
       "      <td>1</td>\n",
       "    </tr>\n",
       "  </tbody>\n",
       "</table>\n",
       "</div>"
      ],
      "text/plain": [
       "   cost  heaviest queen weight location of heaviest queen  \\\n",
       "0    37                      8                     (3, 1)   \n",
       "1     8                      7                     (0, 2)   \n",
       "2    82                      6                     (1, 0)   \n",
       "3   119                      7                     (2, 1)   \n",
       "4    72                      8                     (0, 1)   \n",
       "\n",
       "   lightest queen weight location of lightest queen  initial conflicts  n  \\\n",
       "0                      1                     (0, 2)                  6  4   \n",
       "1                      2                     (2, 3)                  0  4   \n",
       "2                      3                     (3, 1)                  2  4   \n",
       "3                      3                     (1, 2)                  3  4   \n",
       "4                      6                     (3, 2)                  0  4   \n",
       "\n",
       "   average value including 0  lightest in conflict  heaviest in conflict  \\\n",
       "0                     1.0000                     1                     8   \n",
       "1                     1.2500                     0                     0   \n",
       "2                     1.1250                     3                     5   \n",
       "3                     1.3125                     3                     7   \n",
       "4                     1.8125                     0                     0   \n",
       "\n",
       "   average in conflict  smallest d in conflict  largest d in conflict  \\\n",
       "0             4.166667                1.414214               2.828427   \n",
       "1             0.000000                0.000000               0.000000   \n",
       "2             4.000000                1.414214               1.414214   \n",
       "3             5.000000                1.414214               4.242641   \n",
       "4             0.000000                0.000000               0.000000   \n",
       "\n",
       "   average d in conflict  row with most queens  row with least queens  \\\n",
       "0               2.357023                     0                      0   \n",
       "1               0.000000                     0                      0   \n",
       "2               1.414214                     0                      0   \n",
       "3               2.357023                     0                      0   \n",
       "4               0.000000                     0                      0   \n",
       "\n",
       "   num empty rows  most queens in row  least queens in row  \\\n",
       "0               0                   1                    1   \n",
       "1               0                   1                    1   \n",
       "2               0                   1                    1   \n",
       "3               0                   1                    1   \n",
       "4               0                   1                    1   \n",
       "\n",
       "   avg queens in nonzero row  \n",
       "0                          1  \n",
       "1                          1  \n",
       "2                          1  \n",
       "3                          1  \n",
       "4                          1  "
      ]
     },
     "execution_count": 44,
     "metadata": {},
     "output_type": "execute_result"
    }
   ],
   "source": [
    "import pandas as pd\n",
    "data = pd.read_csv('attributes.csv')\n",
    "data.head()"
   ]
  },
  {
   "cell_type": "code",
   "execution_count": 45,
   "id": "bf044b28",
   "metadata": {},
   "outputs": [
    {
     "data": {
      "text/plain": [
       "0     37\n",
       "1      8\n",
       "2     82\n",
       "3    119\n",
       "4     72\n",
       "Name: cost, dtype: int64"
      ]
     },
     "execution_count": 45,
     "metadata": {},
     "output_type": "execute_result"
    }
   ],
   "source": [
    "Y = data['cost']\n",
    "Y.head()"
   ]
  },
  {
   "cell_type": "code",
   "execution_count": 46,
   "id": "55c2bbc9",
   "metadata": {
    "scrolled": true
   },
   "outputs": [
    {
     "data": {
      "text/html": [
       "<div>\n",
       "<style scoped>\n",
       "    .dataframe tbody tr th:only-of-type {\n",
       "        vertical-align: middle;\n",
       "    }\n",
       "\n",
       "    .dataframe tbody tr th {\n",
       "        vertical-align: top;\n",
       "    }\n",
       "\n",
       "    .dataframe thead th {\n",
       "        text-align: right;\n",
       "    }\n",
       "</style>\n",
       "<table border=\"1\" class=\"dataframe\">\n",
       "  <thead>\n",
       "    <tr style=\"text-align: right;\">\n",
       "      <th></th>\n",
       "      <th>heaviest queen weight</th>\n",
       "      <th>location of heaviest queen</th>\n",
       "      <th>lightest queen weight</th>\n",
       "      <th>location of lightest queen</th>\n",
       "      <th>initial conflicts</th>\n",
       "      <th>n</th>\n",
       "      <th>average value including 0</th>\n",
       "      <th>lightest in conflict</th>\n",
       "      <th>heaviest in conflict</th>\n",
       "      <th>average in conflict</th>\n",
       "      <th>smallest d in conflict</th>\n",
       "      <th>largest d in conflict</th>\n",
       "      <th>average d in conflict</th>\n",
       "      <th>row with most queens</th>\n",
       "      <th>row with least queens</th>\n",
       "      <th>num empty rows</th>\n",
       "      <th>most queens in row</th>\n",
       "      <th>least queens in row</th>\n",
       "      <th>avg queens in nonzero row</th>\n",
       "    </tr>\n",
       "  </thead>\n",
       "  <tbody>\n",
       "    <tr>\n",
       "      <th>0</th>\n",
       "      <td>8</td>\n",
       "      <td>(3, 1)</td>\n",
       "      <td>1</td>\n",
       "      <td>(0, 2)</td>\n",
       "      <td>6</td>\n",
       "      <td>4</td>\n",
       "      <td>1.0000</td>\n",
       "      <td>1</td>\n",
       "      <td>8</td>\n",
       "      <td>4.166667</td>\n",
       "      <td>1.414214</td>\n",
       "      <td>2.828427</td>\n",
       "      <td>2.357023</td>\n",
       "      <td>0</td>\n",
       "      <td>0</td>\n",
       "      <td>0</td>\n",
       "      <td>1</td>\n",
       "      <td>1</td>\n",
       "      <td>1</td>\n",
       "    </tr>\n",
       "    <tr>\n",
       "      <th>1</th>\n",
       "      <td>7</td>\n",
       "      <td>(0, 2)</td>\n",
       "      <td>2</td>\n",
       "      <td>(2, 3)</td>\n",
       "      <td>0</td>\n",
       "      <td>4</td>\n",
       "      <td>1.2500</td>\n",
       "      <td>0</td>\n",
       "      <td>0</td>\n",
       "      <td>0.000000</td>\n",
       "      <td>0.000000</td>\n",
       "      <td>0.000000</td>\n",
       "      <td>0.000000</td>\n",
       "      <td>0</td>\n",
       "      <td>0</td>\n",
       "      <td>0</td>\n",
       "      <td>1</td>\n",
       "      <td>1</td>\n",
       "      <td>1</td>\n",
       "    </tr>\n",
       "    <tr>\n",
       "      <th>2</th>\n",
       "      <td>6</td>\n",
       "      <td>(1, 0)</td>\n",
       "      <td>3</td>\n",
       "      <td>(3, 1)</td>\n",
       "      <td>2</td>\n",
       "      <td>4</td>\n",
       "      <td>1.1250</td>\n",
       "      <td>3</td>\n",
       "      <td>5</td>\n",
       "      <td>4.000000</td>\n",
       "      <td>1.414214</td>\n",
       "      <td>1.414214</td>\n",
       "      <td>1.414214</td>\n",
       "      <td>0</td>\n",
       "      <td>0</td>\n",
       "      <td>0</td>\n",
       "      <td>1</td>\n",
       "      <td>1</td>\n",
       "      <td>1</td>\n",
       "    </tr>\n",
       "    <tr>\n",
       "      <th>3</th>\n",
       "      <td>7</td>\n",
       "      <td>(2, 1)</td>\n",
       "      <td>3</td>\n",
       "      <td>(1, 2)</td>\n",
       "      <td>3</td>\n",
       "      <td>4</td>\n",
       "      <td>1.3125</td>\n",
       "      <td>3</td>\n",
       "      <td>7</td>\n",
       "      <td>5.000000</td>\n",
       "      <td>1.414214</td>\n",
       "      <td>4.242641</td>\n",
       "      <td>2.357023</td>\n",
       "      <td>0</td>\n",
       "      <td>0</td>\n",
       "      <td>0</td>\n",
       "      <td>1</td>\n",
       "      <td>1</td>\n",
       "      <td>1</td>\n",
       "    </tr>\n",
       "    <tr>\n",
       "      <th>4</th>\n",
       "      <td>8</td>\n",
       "      <td>(0, 1)</td>\n",
       "      <td>6</td>\n",
       "      <td>(3, 2)</td>\n",
       "      <td>0</td>\n",
       "      <td>4</td>\n",
       "      <td>1.8125</td>\n",
       "      <td>0</td>\n",
       "      <td>0</td>\n",
       "      <td>0.000000</td>\n",
       "      <td>0.000000</td>\n",
       "      <td>0.000000</td>\n",
       "      <td>0.000000</td>\n",
       "      <td>0</td>\n",
       "      <td>0</td>\n",
       "      <td>0</td>\n",
       "      <td>1</td>\n",
       "      <td>1</td>\n",
       "      <td>1</td>\n",
       "    </tr>\n",
       "  </tbody>\n",
       "</table>\n",
       "</div>"
      ],
      "text/plain": [
       "   heaviest queen weight location of heaviest queen  lightest queen weight  \\\n",
       "0                      8                     (3, 1)                      1   \n",
       "1                      7                     (0, 2)                      2   \n",
       "2                      6                     (1, 0)                      3   \n",
       "3                      7                     (2, 1)                      3   \n",
       "4                      8                     (0, 1)                      6   \n",
       "\n",
       "  location of lightest queen  initial conflicts  n  average value including 0  \\\n",
       "0                     (0, 2)                  6  4                     1.0000   \n",
       "1                     (2, 3)                  0  4                     1.2500   \n",
       "2                     (3, 1)                  2  4                     1.1250   \n",
       "3                     (1, 2)                  3  4                     1.3125   \n",
       "4                     (3, 2)                  0  4                     1.8125   \n",
       "\n",
       "   lightest in conflict  heaviest in conflict  average in conflict  \\\n",
       "0                     1                     8             4.166667   \n",
       "1                     0                     0             0.000000   \n",
       "2                     3                     5             4.000000   \n",
       "3                     3                     7             5.000000   \n",
       "4                     0                     0             0.000000   \n",
       "\n",
       "   smallest d in conflict  largest d in conflict  average d in conflict  \\\n",
       "0                1.414214               2.828427               2.357023   \n",
       "1                0.000000               0.000000               0.000000   \n",
       "2                1.414214               1.414214               1.414214   \n",
       "3                1.414214               4.242641               2.357023   \n",
       "4                0.000000               0.000000               0.000000   \n",
       "\n",
       "   row with most queens  row with least queens  num empty rows  \\\n",
       "0                     0                      0               0   \n",
       "1                     0                      0               0   \n",
       "2                     0                      0               0   \n",
       "3                     0                      0               0   \n",
       "4                     0                      0               0   \n",
       "\n",
       "   most queens in row  least queens in row  avg queens in nonzero row  \n",
       "0                   1                    1                          1  \n",
       "1                   1                    1                          1  \n",
       "2                   1                    1                          1  \n",
       "3                   1                    1                          1  \n",
       "4                   1                    1                          1  "
      ]
     },
     "execution_count": 46,
     "metadata": {},
     "output_type": "execute_result"
    }
   ],
   "source": [
    "X = data.loc[:, data.columns != 'cost']\n",
    "X.head()"
   ]
  },
  {
   "cell_type": "markdown",
   "id": "948a5d03",
   "metadata": {},
   "source": [
    "### Our location features won't be accepted into an svc so we need to convert those to floats in the format (3,1) -> 3.1 and (0,2) -> 0.2 for simplicity."
   ]
  },
  {
   "cell_type": "code",
   "execution_count": 47,
   "id": "ac9c9859",
   "metadata": {
    "scrolled": true
   },
   "outputs": [
    {
     "name": "stderr",
     "output_type": "stream",
     "text": [
      "C:\\Users\\Spencer\\AppData\\Local\\Temp\\ipykernel_11616\\2872941786.py:8: SettingWithCopyWarning: \n",
      "A value is trying to be set on a copy of a slice from a DataFrame.\n",
      "Try using .loc[row_indexer,col_indexer] = value instead\n",
      "\n",
      "See the caveats in the documentation: https://pandas.pydata.org/pandas-docs/stable/user_guide/indexing.html#returning-a-view-versus-a-copy\n",
      "  X['location of heaviest queen'] = X['location of heaviest queen'].apply(lambda x: convert_float(x))\n",
      "C:\\Users\\Spencer\\AppData\\Local\\Temp\\ipykernel_11616\\2872941786.py:9: SettingWithCopyWarning: \n",
      "A value is trying to be set on a copy of a slice from a DataFrame.\n",
      "Try using .loc[row_indexer,col_indexer] = value instead\n",
      "\n",
      "See the caveats in the documentation: https://pandas.pydata.org/pandas-docs/stable/user_guide/indexing.html#returning-a-view-versus-a-copy\n",
      "  X['location of lightest queen'] = X['location of lightest queen'].apply(lambda x: convert_float(x))\n"
     ]
    }
   ],
   "source": [
    "def convert_float(inp):\n",
    "    inp = inp.replace(\"(\", \"\")\n",
    "    inp = inp.replace(\")\", \"\")\n",
    "    splitted_data = inp.split(\",\")\n",
    "    temp = str(splitted_data[0] + '.' + splitted_data[1])\n",
    "    temp = temp.replace(\" \", \"\")\n",
    "    return temp\n",
    "X['location of heaviest queen'] = X['location of heaviest queen'].apply(lambda x: convert_float(x))\n",
    "X['location of lightest queen'] = X['location of lightest queen'].apply(lambda x: convert_float(x))"
   ]
  },
  {
   "cell_type": "code",
   "execution_count": 48,
   "id": "15931e7a",
   "metadata": {},
   "outputs": [
    {
     "name": "stderr",
     "output_type": "stream",
     "text": [
      "C:\\Users\\Spencer\\anaconda3\\lib\\site-packages\\sklearn\\model_selection\\_split.py:676: UserWarning: The least populated class in y has only 1 members, which is less than n_splits=10.\n",
      "  warnings.warn(\n"
     ]
    },
    {
     "data": {
      "text/plain": [
       "array([0.12288613, 0.11048478, 0.11386697, 0.11625282, 0.11625282,\n",
       "       0.11173815, 0.11851016, 0.11286682, 0.10948081, 0.1027088 ])"
      ]
     },
     "execution_count": 48,
     "metadata": {},
     "output_type": "execute_result"
    }
   ],
   "source": [
    "from sklearn.svm import SVC\n",
    "from sklearn.model_selection import cross_val_score\n",
    "clf = SVC(kernel='linear')\n",
    "scores = cross_val_score(clf, X, Y, cv=10)\n",
    "scores"
   ]
  },
  {
   "cell_type": "markdown",
   "id": "ede43ffe",
   "metadata": {},
   "source": [
    "### Okay that went poorly"
   ]
  },
  {
   "cell_type": "code",
   "execution_count": 51,
   "id": "9a3b4f4d",
   "metadata": {},
   "outputs": [
    {
     "data": {
      "text/html": [
       "<div>\n",
       "<style scoped>\n",
       "    .dataframe tbody tr th:only-of-type {\n",
       "        vertical-align: middle;\n",
       "    }\n",
       "\n",
       "    .dataframe tbody tr th {\n",
       "        vertical-align: top;\n",
       "    }\n",
       "\n",
       "    .dataframe thead th {\n",
       "        text-align: right;\n",
       "    }\n",
       "</style>\n",
       "<table border=\"1\" class=\"dataframe\">\n",
       "  <thead>\n",
       "    <tr style=\"text-align: right;\">\n",
       "      <th></th>\n",
       "      <th>heaviest queen weight</th>\n",
       "      <th>lightest queen weight</th>\n",
       "      <th>initial conflicts</th>\n",
       "      <th>n</th>\n",
       "      <th>average value including 0</th>\n",
       "      <th>lightest in conflict</th>\n",
       "      <th>heaviest in conflict</th>\n",
       "      <th>average in conflict</th>\n",
       "      <th>smallest d in conflict</th>\n",
       "      <th>largest d in conflict</th>\n",
       "      <th>average d in conflict</th>\n",
       "      <th>row with most queens</th>\n",
       "      <th>row with least queens</th>\n",
       "      <th>num empty rows</th>\n",
       "      <th>most queens in row</th>\n",
       "      <th>least queens in row</th>\n",
       "      <th>avg queens in nonzero row</th>\n",
       "    </tr>\n",
       "  </thead>\n",
       "  <tbody>\n",
       "    <tr>\n",
       "      <th>count</th>\n",
       "      <td>8863.000000</td>\n",
       "      <td>8863.000000</td>\n",
       "      <td>8863.000000</td>\n",
       "      <td>8863.000000</td>\n",
       "      <td>8863.000000</td>\n",
       "      <td>8863.000000</td>\n",
       "      <td>8863.000000</td>\n",
       "      <td>8863.000000</td>\n",
       "      <td>8863.000000</td>\n",
       "      <td>8863.000000</td>\n",
       "      <td>8863.000000</td>\n",
       "      <td>8863.0</td>\n",
       "      <td>8863.0</td>\n",
       "      <td>8863.0</td>\n",
       "      <td>8863.0</td>\n",
       "      <td>8863.0</td>\n",
       "      <td>8863.0</td>\n",
       "    </tr>\n",
       "    <tr>\n",
       "      <th>mean</th>\n",
       "      <td>6.989168</td>\n",
       "      <td>2.039603</td>\n",
       "      <td>3.989281</td>\n",
       "      <td>4.545075</td>\n",
       "      <td>1.011267</td>\n",
       "      <td>2.491933</td>\n",
       "      <td>5.732822</td>\n",
       "      <td>4.105381</td>\n",
       "      <td>1.323900</td>\n",
       "      <td>2.606474</td>\n",
       "      <td>1.901665</td>\n",
       "      <td>0.0</td>\n",
       "      <td>0.0</td>\n",
       "      <td>0.0</td>\n",
       "      <td>1.0</td>\n",
       "      <td>1.0</td>\n",
       "      <td>1.0</td>\n",
       "    </tr>\n",
       "    <tr>\n",
       "      <th>std</th>\n",
       "      <td>1.204959</td>\n",
       "      <td>1.214665</td>\n",
       "      <td>2.817394</td>\n",
       "      <td>0.650828</td>\n",
       "      <td>0.280707</td>\n",
       "      <td>1.848749</td>\n",
       "      <td>2.436541</td>\n",
       "      <td>1.893297</td>\n",
       "      <td>0.487685</td>\n",
       "      <td>1.486165</td>\n",
       "      <td>0.868307</td>\n",
       "      <td>0.0</td>\n",
       "      <td>0.0</td>\n",
       "      <td>0.0</td>\n",
       "      <td>0.0</td>\n",
       "      <td>0.0</td>\n",
       "      <td>0.0</td>\n",
       "    </tr>\n",
       "    <tr>\n",
       "      <th>min</th>\n",
       "      <td>2.000000</td>\n",
       "      <td>1.000000</td>\n",
       "      <td>0.000000</td>\n",
       "      <td>4.000000</td>\n",
       "      <td>0.240000</td>\n",
       "      <td>0.000000</td>\n",
       "      <td>0.000000</td>\n",
       "      <td>0.000000</td>\n",
       "      <td>0.000000</td>\n",
       "      <td>0.000000</td>\n",
       "      <td>0.000000</td>\n",
       "      <td>0.0</td>\n",
       "      <td>0.0</td>\n",
       "      <td>0.0</td>\n",
       "      <td>1.0</td>\n",
       "      <td>1.0</td>\n",
       "      <td>1.0</td>\n",
       "    </tr>\n",
       "    <tr>\n",
       "      <th>25%</th>\n",
       "      <td>6.000000</td>\n",
       "      <td>1.000000</td>\n",
       "      <td>2.000000</td>\n",
       "      <td>4.000000</td>\n",
       "      <td>0.812500</td>\n",
       "      <td>1.000000</td>\n",
       "      <td>5.000000</td>\n",
       "      <td>3.000000</td>\n",
       "      <td>1.414214</td>\n",
       "      <td>1.414214</td>\n",
       "      <td>1.414214</td>\n",
       "      <td>0.0</td>\n",
       "      <td>0.0</td>\n",
       "      <td>0.0</td>\n",
       "      <td>1.0</td>\n",
       "      <td>1.0</td>\n",
       "      <td>1.0</td>\n",
       "    </tr>\n",
       "    <tr>\n",
       "      <th>50%</th>\n",
       "      <td>7.000000</td>\n",
       "      <td>2.000000</td>\n",
       "      <td>3.000000</td>\n",
       "      <td>4.000000</td>\n",
       "      <td>1.000000</td>\n",
       "      <td>2.000000</td>\n",
       "      <td>7.000000</td>\n",
       "      <td>4.333333</td>\n",
       "      <td>1.414214</td>\n",
       "      <td>2.828427</td>\n",
       "      <td>1.885618</td>\n",
       "      <td>0.0</td>\n",
       "      <td>0.0</td>\n",
       "      <td>0.0</td>\n",
       "      <td>1.0</td>\n",
       "      <td>1.0</td>\n",
       "      <td>1.0</td>\n",
       "    </tr>\n",
       "    <tr>\n",
       "      <th>75%</th>\n",
       "      <td>8.000000</td>\n",
       "      <td>3.000000</td>\n",
       "      <td>6.000000</td>\n",
       "      <td>5.000000</td>\n",
       "      <td>1.187500</td>\n",
       "      <td>4.000000</td>\n",
       "      <td>8.000000</td>\n",
       "      <td>5.333333</td>\n",
       "      <td>1.414214</td>\n",
       "      <td>4.242641</td>\n",
       "      <td>2.357023</td>\n",
       "      <td>0.0</td>\n",
       "      <td>0.0</td>\n",
       "      <td>0.0</td>\n",
       "      <td>1.0</td>\n",
       "      <td>1.0</td>\n",
       "      <td>1.0</td>\n",
       "    </tr>\n",
       "    <tr>\n",
       "      <th>max</th>\n",
       "      <td>8.000000</td>\n",
       "      <td>8.000000</td>\n",
       "      <td>20.000000</td>\n",
       "      <td>8.000000</td>\n",
       "      <td>2.000000</td>\n",
       "      <td>8.000000</td>\n",
       "      <td>8.000000</td>\n",
       "      <td>8.000000</td>\n",
       "      <td>8.485281</td>\n",
       "      <td>8.485281</td>\n",
       "      <td>8.485281</td>\n",
       "      <td>0.0</td>\n",
       "      <td>0.0</td>\n",
       "      <td>0.0</td>\n",
       "      <td>1.0</td>\n",
       "      <td>1.0</td>\n",
       "      <td>1.0</td>\n",
       "    </tr>\n",
       "  </tbody>\n",
       "</table>\n",
       "</div>"
      ],
      "text/plain": [
       "       heaviest queen weight  lightest queen weight  initial conflicts  \\\n",
       "count            8863.000000            8863.000000        8863.000000   \n",
       "mean                6.989168               2.039603           3.989281   \n",
       "std                 1.204959               1.214665           2.817394   \n",
       "min                 2.000000               1.000000           0.000000   \n",
       "25%                 6.000000               1.000000           2.000000   \n",
       "50%                 7.000000               2.000000           3.000000   \n",
       "75%                 8.000000               3.000000           6.000000   \n",
       "max                 8.000000               8.000000          20.000000   \n",
       "\n",
       "                 n  average value including 0  lightest in conflict  \\\n",
       "count  8863.000000                8863.000000           8863.000000   \n",
       "mean      4.545075                   1.011267              2.491933   \n",
       "std       0.650828                   0.280707              1.848749   \n",
       "min       4.000000                   0.240000              0.000000   \n",
       "25%       4.000000                   0.812500              1.000000   \n",
       "50%       4.000000                   1.000000              2.000000   \n",
       "75%       5.000000                   1.187500              4.000000   \n",
       "max       8.000000                   2.000000              8.000000   \n",
       "\n",
       "       heaviest in conflict  average in conflict  smallest d in conflict  \\\n",
       "count           8863.000000          8863.000000             8863.000000   \n",
       "mean               5.732822             4.105381                1.323900   \n",
       "std                2.436541             1.893297                0.487685   \n",
       "min                0.000000             0.000000                0.000000   \n",
       "25%                5.000000             3.000000                1.414214   \n",
       "50%                7.000000             4.333333                1.414214   \n",
       "75%                8.000000             5.333333                1.414214   \n",
       "max                8.000000             8.000000                8.485281   \n",
       "\n",
       "       largest d in conflict  average d in conflict  row with most queens  \\\n",
       "count            8863.000000            8863.000000                8863.0   \n",
       "mean                2.606474               1.901665                   0.0   \n",
       "std                 1.486165               0.868307                   0.0   \n",
       "min                 0.000000               0.000000                   0.0   \n",
       "25%                 1.414214               1.414214                   0.0   \n",
       "50%                 2.828427               1.885618                   0.0   \n",
       "75%                 4.242641               2.357023                   0.0   \n",
       "max                 8.485281               8.485281                   0.0   \n",
       "\n",
       "       row with least queens  num empty rows  most queens in row  \\\n",
       "count                 8863.0          8863.0              8863.0   \n",
       "mean                     0.0             0.0                 1.0   \n",
       "std                      0.0             0.0                 0.0   \n",
       "min                      0.0             0.0                 1.0   \n",
       "25%                      0.0             0.0                 1.0   \n",
       "50%                      0.0             0.0                 1.0   \n",
       "75%                      0.0             0.0                 1.0   \n",
       "max                      0.0             0.0                 1.0   \n",
       "\n",
       "       least queens in row  avg queens in nonzero row  \n",
       "count               8863.0                     8863.0  \n",
       "mean                   1.0                        1.0  \n",
       "std                    0.0                        0.0  \n",
       "min                    1.0                        1.0  \n",
       "25%                    1.0                        1.0  \n",
       "50%                    1.0                        1.0  \n",
       "75%                    1.0                        1.0  \n",
       "max                    1.0                        1.0  "
      ]
     },
     "execution_count": 51,
     "metadata": {},
     "output_type": "execute_result"
    }
   ],
   "source": [
    "X.describe()"
   ]
  },
  {
   "cell_type": "markdown",
   "id": "8ef76875",
   "metadata": {},
   "source": [
    "### We'll try again but drop the rows 'row with most queens' and onwards since those are just constants in this dataset"
   ]
  },
  {
   "cell_type": "code",
   "execution_count": 54,
   "id": "20e8e6be",
   "metadata": {},
   "outputs": [
    {
     "data": {
      "text/html": [
       "<div>\n",
       "<style scoped>\n",
       "    .dataframe tbody tr th:only-of-type {\n",
       "        vertical-align: middle;\n",
       "    }\n",
       "\n",
       "    .dataframe tbody tr th {\n",
       "        vertical-align: top;\n",
       "    }\n",
       "\n",
       "    .dataframe thead th {\n",
       "        text-align: right;\n",
       "    }\n",
       "</style>\n",
       "<table border=\"1\" class=\"dataframe\">\n",
       "  <thead>\n",
       "    <tr style=\"text-align: right;\">\n",
       "      <th></th>\n",
       "      <th>heaviest queen weight</th>\n",
       "      <th>location of heaviest queen</th>\n",
       "      <th>lightest queen weight</th>\n",
       "      <th>location of lightest queen</th>\n",
       "      <th>initial conflicts</th>\n",
       "      <th>n</th>\n",
       "      <th>average value including 0</th>\n",
       "      <th>lightest in conflict</th>\n",
       "      <th>heaviest in conflict</th>\n",
       "      <th>average in conflict</th>\n",
       "      <th>smallest d in conflict</th>\n",
       "      <th>largest d in conflict</th>\n",
       "      <th>average d in conflict</th>\n",
       "    </tr>\n",
       "  </thead>\n",
       "  <tbody>\n",
       "    <tr>\n",
       "      <th>0</th>\n",
       "      <td>8</td>\n",
       "      <td>3.1</td>\n",
       "      <td>1</td>\n",
       "      <td>0.2</td>\n",
       "      <td>6</td>\n",
       "      <td>4</td>\n",
       "      <td>1.0000</td>\n",
       "      <td>1</td>\n",
       "      <td>8</td>\n",
       "      <td>4.166667</td>\n",
       "      <td>1.414214</td>\n",
       "      <td>2.828427</td>\n",
       "      <td>2.357023</td>\n",
       "    </tr>\n",
       "    <tr>\n",
       "      <th>1</th>\n",
       "      <td>7</td>\n",
       "      <td>0.2</td>\n",
       "      <td>2</td>\n",
       "      <td>2.3</td>\n",
       "      <td>0</td>\n",
       "      <td>4</td>\n",
       "      <td>1.2500</td>\n",
       "      <td>0</td>\n",
       "      <td>0</td>\n",
       "      <td>0.000000</td>\n",
       "      <td>0.000000</td>\n",
       "      <td>0.000000</td>\n",
       "      <td>0.000000</td>\n",
       "    </tr>\n",
       "    <tr>\n",
       "      <th>2</th>\n",
       "      <td>6</td>\n",
       "      <td>1.0</td>\n",
       "      <td>3</td>\n",
       "      <td>3.1</td>\n",
       "      <td>2</td>\n",
       "      <td>4</td>\n",
       "      <td>1.1250</td>\n",
       "      <td>3</td>\n",
       "      <td>5</td>\n",
       "      <td>4.000000</td>\n",
       "      <td>1.414214</td>\n",
       "      <td>1.414214</td>\n",
       "      <td>1.414214</td>\n",
       "    </tr>\n",
       "    <tr>\n",
       "      <th>3</th>\n",
       "      <td>7</td>\n",
       "      <td>2.1</td>\n",
       "      <td>3</td>\n",
       "      <td>1.2</td>\n",
       "      <td>3</td>\n",
       "      <td>4</td>\n",
       "      <td>1.3125</td>\n",
       "      <td>3</td>\n",
       "      <td>7</td>\n",
       "      <td>5.000000</td>\n",
       "      <td>1.414214</td>\n",
       "      <td>4.242641</td>\n",
       "      <td>2.357023</td>\n",
       "    </tr>\n",
       "    <tr>\n",
       "      <th>4</th>\n",
       "      <td>8</td>\n",
       "      <td>0.1</td>\n",
       "      <td>6</td>\n",
       "      <td>3.2</td>\n",
       "      <td>0</td>\n",
       "      <td>4</td>\n",
       "      <td>1.8125</td>\n",
       "      <td>0</td>\n",
       "      <td>0</td>\n",
       "      <td>0.000000</td>\n",
       "      <td>0.000000</td>\n",
       "      <td>0.000000</td>\n",
       "      <td>0.000000</td>\n",
       "    </tr>\n",
       "  </tbody>\n",
       "</table>\n",
       "</div>"
      ],
      "text/plain": [
       "   heaviest queen weight location of heaviest queen  lightest queen weight  \\\n",
       "0                      8                        3.1                      1   \n",
       "1                      7                        0.2                      2   \n",
       "2                      6                        1.0                      3   \n",
       "3                      7                        2.1                      3   \n",
       "4                      8                        0.1                      6   \n",
       "\n",
       "  location of lightest queen  initial conflicts  n  average value including 0  \\\n",
       "0                        0.2                  6  4                     1.0000   \n",
       "1                        2.3                  0  4                     1.2500   \n",
       "2                        3.1                  2  4                     1.1250   \n",
       "3                        1.2                  3  4                     1.3125   \n",
       "4                        3.2                  0  4                     1.8125   \n",
       "\n",
       "   lightest in conflict  heaviest in conflict  average in conflict  \\\n",
       "0                     1                     8             4.166667   \n",
       "1                     0                     0             0.000000   \n",
       "2                     3                     5             4.000000   \n",
       "3                     3                     7             5.000000   \n",
       "4                     0                     0             0.000000   \n",
       "\n",
       "   smallest d in conflict  largest d in conflict  average d in conflict  \n",
       "0                1.414214               2.828427               2.357023  \n",
       "1                0.000000               0.000000               0.000000  \n",
       "2                1.414214               1.414214               1.414214  \n",
       "3                1.414214               4.242641               2.357023  \n",
       "4                0.000000               0.000000               0.000000  "
      ]
     },
     "execution_count": 54,
     "metadata": {},
     "output_type": "execute_result"
    }
   ],
   "source": [
    "X = X.drop(columns=['row with most queens', 'row with least queens', 'num empty rows', 'most queens in row', 'least queens in row', 'avg queens in nonzero row'])\n",
    "X.head()"
   ]
  },
  {
   "cell_type": "markdown",
   "id": "3e07ac1a",
   "metadata": {},
   "source": [
    "### And try again..."
   ]
  },
  {
   "cell_type": "code",
   "execution_count": 55,
   "id": "f1b891f4",
   "metadata": {},
   "outputs": [
    {
     "name": "stderr",
     "output_type": "stream",
     "text": [
      "C:\\Users\\Spencer\\anaconda3\\lib\\site-packages\\sklearn\\model_selection\\_split.py:676: UserWarning: The least populated class in y has only 1 members, which is less than n_splits=10.\n",
      "  warnings.warn(\n"
     ]
    },
    {
     "data": {
      "text/plain": [
       "array([0.12288613, 0.11048478, 0.11386697, 0.11625282, 0.11625282,\n",
       "       0.11173815, 0.11851016, 0.11286682, 0.10948081, 0.10383747])"
      ]
     },
     "execution_count": 55,
     "metadata": {},
     "output_type": "execute_result"
    }
   ],
   "source": [
    "clf = SVC(kernel='linear')\n",
    "scores = cross_val_score(clf, X, Y, cv=10)\n",
    "scores"
   ]
  },
  {
   "cell_type": "markdown",
   "id": "b4fca025",
   "metadata": {},
   "source": [
    "### Neglibible change. Might as well have kept those features"
   ]
  },
  {
   "cell_type": "markdown",
   "id": "bc5ec4d2",
   "metadata": {},
   "source": [
    "### What about a non-linear relationship?"
   ]
  },
  {
   "cell_type": "code",
   "execution_count": 56,
   "id": "c54cde16",
   "metadata": {},
   "outputs": [
    {
     "name": "stderr",
     "output_type": "stream",
     "text": [
      "C:\\Users\\Spencer\\anaconda3\\lib\\site-packages\\sklearn\\model_selection\\_split.py:676: UserWarning: The least populated class in y has only 1 members, which is less than n_splits=10.\n",
      "  warnings.warn(\n"
     ]
    },
    {
     "data": {
      "text/plain": [
       "array([0.12965051, 0.11612176, 0.11273957, 0.11738149, 0.12641084,\n",
       "       0.11963883, 0.11851016, 0.11399549, 0.12528217, 0.11851016])"
      ]
     },
     "execution_count": 56,
     "metadata": {},
     "output_type": "execute_result"
    }
   ],
   "source": [
    "clf = SVC(kernel='poly')\n",
    "scores = cross_val_score(clf, X, Y, cv=10)\n",
    "scores"
   ]
  },
  {
   "cell_type": "markdown",
   "id": "77223fa3",
   "metadata": {},
   "source": [
    "### Also not great"
   ]
  },
  {
   "cell_type": "markdown",
   "id": "50554e9e",
   "metadata": {},
   "source": [
    "### Let's try a random forest with depth of 10 for starters"
   ]
  },
  {
   "cell_type": "code",
   "execution_count": 57,
   "id": "eaeac44c",
   "metadata": {},
   "outputs": [
    {
     "name": "stderr",
     "output_type": "stream",
     "text": [
      "C:\\Users\\Spencer\\anaconda3\\lib\\site-packages\\sklearn\\model_selection\\_split.py:676: UserWarning: The least populated class in y has only 1 members, which is less than n_splits=10.\n",
      "  warnings.warn(\n"
     ]
    },
    {
     "data": {
      "text/plain": [
       "array([0.19729425, 0.19278467, 0.18714769, 0.19638826, 0.19074492,\n",
       "       0.1489842 , 0.1489842 , 0.13544018, 0.15349887, 0.13205418])"
      ]
     },
     "execution_count": 57,
     "metadata": {},
     "output_type": "execute_result"
    }
   ],
   "source": [
    "from sklearn.ensemble import RandomForestClassifier\n",
    "clf = RandomForestClassifier(max_depth=10)\n",
    "scores = cross_val_score(clf, X, Y, cv=10)\n",
    "scores"
   ]
  },
  {
   "cell_type": "code",
   "execution_count": null,
   "id": "7ee3df09",
   "metadata": {},
   "outputs": [],
   "source": [
    "avg = sum(scores) / len(scores)\n",
    "avg"
   ]
  },
  {
   "cell_type": "markdown",
   "id": "a087b31c",
   "metadata": {},
   "source": [
    "### Immediately better. How about depth of 20 to allow more branches"
   ]
  },
  {
   "cell_type": "code",
   "execution_count": 66,
   "id": "c8c3cb0d",
   "metadata": {},
   "outputs": [
    {
     "name": "stderr",
     "output_type": "stream",
     "text": [
      "C:\\Users\\Spencer\\anaconda3\\lib\\site-packages\\sklearn\\model_selection\\_split.py:676: UserWarning: The least populated class in y has only 1 members, which is less than n_splits=10.\n",
      "  warnings.warn(\n"
     ]
    },
    {
     "data": {
      "text/plain": [
       "array([0.22886133, 0.21307779, 0.22886133, 0.23250564, 0.21218962,\n",
       "       0.17042889, 0.16478555, 0.13769752, 0.15349887, 0.12979684])"
      ]
     },
     "execution_count": 66,
     "metadata": {},
     "output_type": "execute_result"
    }
   ],
   "source": [
    "clf = RandomForestClassifier(max_depth=20)\n",
    "scores = cross_val_score(clf, X, Y, cv=10)\n",
    "scores"
   ]
  },
  {
   "cell_type": "code",
   "execution_count": 67,
   "id": "ac7ab073",
   "metadata": {},
   "outputs": [
    {
     "data": {
      "text/plain": [
       "RandomForestClassifier(max_depth=20)"
      ]
     },
     "execution_count": 67,
     "metadata": {},
     "output_type": "execute_result"
    }
   ],
   "source": [
    "model = RandomForestClassifier(max_depth=20)\n",
    "clf.fit(X, Y)"
   ]
  },
  {
   "cell_type": "markdown",
   "id": "ac810298",
   "metadata": {},
   "source": [
    "### Let's save this one after running all the others"
   ]
  },
  {
   "cell_type": "code",
   "execution_count": 68,
   "id": "cd21f064",
   "metadata": {},
   "outputs": [],
   "source": [
    "import pickle\n",
    "#save model\n",
    "with open('model.pkl','wb') as f:\n",
    "  pickle.dump(model,f)"
   ]
  },
  {
   "cell_type": "code",
   "execution_count": 59,
   "id": "b51f759d",
   "metadata": {},
   "outputs": [
    {
     "data": {
      "text/plain": [
       "0.18694435042410948"
      ]
     },
     "execution_count": 59,
     "metadata": {},
     "output_type": "execute_result"
    }
   ],
   "source": [
    "avg = sum(scores) / len(scores)\n",
    "avg"
   ]
  },
  {
   "cell_type": "markdown",
   "id": "1c6eb71d",
   "metadata": {},
   "source": [
    "### More depth?"
   ]
  },
  {
   "cell_type": "code",
   "execution_count": 60,
   "id": "e5827ee2",
   "metadata": {},
   "outputs": [
    {
     "name": "stderr",
     "output_type": "stream",
     "text": [
      "C:\\Users\\Spencer\\anaconda3\\lib\\site-packages\\sklearn\\model_selection\\_split.py:676: UserWarning: The least populated class in y has only 1 members, which is less than n_splits=10.\n",
      "  warnings.warn(\n"
     ]
    },
    {
     "data": {
      "text/plain": [
       "array([0.22096956, 0.21758737, 0.22773393, 0.24379233, 0.21218962,\n",
       "       0.17042889, 0.15688488, 0.13092551, 0.15124153, 0.12866817])"
      ]
     },
     "execution_count": 60,
     "metadata": {},
     "output_type": "execute_result"
    }
   ],
   "source": [
    "clf = RandomForestClassifier(max_depth=30)\n",
    "scores = cross_val_score(clf, X, Y, cv=10)\n",
    "scores"
   ]
  },
  {
   "cell_type": "code",
   "execution_count": 61,
   "id": "91c8573a",
   "metadata": {},
   "outputs": [
    {
     "data": {
      "text/plain": [
       "0.1860421793602602"
      ]
     },
     "execution_count": 61,
     "metadata": {},
     "output_type": "execute_result"
    }
   ],
   "source": [
    "avg = sum(scores) / len(scores)\n",
    "avg"
   ]
  },
  {
   "cell_type": "markdown",
   "id": "93535514",
   "metadata": {},
   "source": [
    "### 20 depth vs 30 depth didn't change much, it actually did ~.09% worse"
   ]
  },
  {
   "cell_type": "markdown",
   "id": "9a1672db",
   "metadata": {},
   "source": [
    "### Gaussian Naive Bayes?"
   ]
  },
  {
   "cell_type": "code",
   "execution_count": 64,
   "id": "16494898",
   "metadata": {},
   "outputs": [
    {
     "name": "stderr",
     "output_type": "stream",
     "text": [
      "C:\\Users\\Spencer\\anaconda3\\lib\\site-packages\\sklearn\\model_selection\\_split.py:676: UserWarning: The least populated class in y has only 1 members, which is less than n_splits=10.\n",
      "  warnings.warn(\n"
     ]
    },
    {
     "data": {
      "text/plain": [
       "array([0.09357384, 0.09131905, 0.08229989, 0.09255079, 0.08916479,\n",
       "       0.08013544, 0.08577878, 0.07674944, 0.08465011, 0.08126411])"
      ]
     },
     "execution_count": 64,
     "metadata": {},
     "output_type": "execute_result"
    }
   ],
   "source": [
    "from sklearn.naive_bayes import GaussianNB\n",
    "clf = GaussianNB()\n",
    "scores = cross_val_score(clf, X, Y, cv=10)\n",
    "scores"
   ]
  },
  {
   "cell_type": "markdown",
   "id": "dfd0f243",
   "metadata": {},
   "source": [
    "### Garbage...neural nets?"
   ]
  },
  {
   "cell_type": "code",
   "execution_count": 65,
   "id": "7439115a",
   "metadata": {},
   "outputs": [
    {
     "name": "stderr",
     "output_type": "stream",
     "text": [
      "C:\\Users\\Spencer\\anaconda3\\lib\\site-packages\\sklearn\\model_selection\\_split.py:676: UserWarning: The least populated class in y has only 1 members, which is less than n_splits=10.\n",
      "  warnings.warn(\n",
      "C:\\Users\\Spencer\\anaconda3\\lib\\site-packages\\sklearn\\neural_network\\_multilayer_perceptron.py:549: ConvergenceWarning: lbfgs failed to converge (status=1):\n",
      "STOP: TOTAL NO. of ITERATIONS REACHED LIMIT.\n",
      "\n",
      "Increase the number of iterations (max_iter) or scale the data as shown in:\n",
      "    https://scikit-learn.org/stable/modules/preprocessing.html\n",
      "  self.n_iter_ = _check_optimize_result(\"lbfgs\", opt_res, self.max_iter)\n",
      "C:\\Users\\Spencer\\anaconda3\\lib\\site-packages\\sklearn\\neural_network\\_multilayer_perceptron.py:549: ConvergenceWarning: lbfgs failed to converge (status=1):\n",
      "STOP: TOTAL NO. of ITERATIONS REACHED LIMIT.\n",
      "\n",
      "Increase the number of iterations (max_iter) or scale the data as shown in:\n",
      "    https://scikit-learn.org/stable/modules/preprocessing.html\n",
      "  self.n_iter_ = _check_optimize_result(\"lbfgs\", opt_res, self.max_iter)\n",
      "C:\\Users\\Spencer\\anaconda3\\lib\\site-packages\\sklearn\\neural_network\\_multilayer_perceptron.py:549: ConvergenceWarning: lbfgs failed to converge (status=1):\n",
      "STOP: TOTAL NO. of ITERATIONS REACHED LIMIT.\n",
      "\n",
      "Increase the number of iterations (max_iter) or scale the data as shown in:\n",
      "    https://scikit-learn.org/stable/modules/preprocessing.html\n",
      "  self.n_iter_ = _check_optimize_result(\"lbfgs\", opt_res, self.max_iter)\n",
      "C:\\Users\\Spencer\\anaconda3\\lib\\site-packages\\sklearn\\neural_network\\_multilayer_perceptron.py:549: ConvergenceWarning: lbfgs failed to converge (status=1):\n",
      "STOP: TOTAL NO. of ITERATIONS REACHED LIMIT.\n",
      "\n",
      "Increase the number of iterations (max_iter) or scale the data as shown in:\n",
      "    https://scikit-learn.org/stable/modules/preprocessing.html\n",
      "  self.n_iter_ = _check_optimize_result(\"lbfgs\", opt_res, self.max_iter)\n",
      "C:\\Users\\Spencer\\anaconda3\\lib\\site-packages\\sklearn\\neural_network\\_multilayer_perceptron.py:549: ConvergenceWarning: lbfgs failed to converge (status=1):\n",
      "STOP: TOTAL NO. of ITERATIONS REACHED LIMIT.\n",
      "\n",
      "Increase the number of iterations (max_iter) or scale the data as shown in:\n",
      "    https://scikit-learn.org/stable/modules/preprocessing.html\n",
      "  self.n_iter_ = _check_optimize_result(\"lbfgs\", opt_res, self.max_iter)\n",
      "C:\\Users\\Spencer\\anaconda3\\lib\\site-packages\\sklearn\\neural_network\\_multilayer_perceptron.py:549: ConvergenceWarning: lbfgs failed to converge (status=1):\n",
      "STOP: TOTAL NO. of ITERATIONS REACHED LIMIT.\n",
      "\n",
      "Increase the number of iterations (max_iter) or scale the data as shown in:\n",
      "    https://scikit-learn.org/stable/modules/preprocessing.html\n",
      "  self.n_iter_ = _check_optimize_result(\"lbfgs\", opt_res, self.max_iter)\n",
      "C:\\Users\\Spencer\\anaconda3\\lib\\site-packages\\sklearn\\neural_network\\_multilayer_perceptron.py:549: ConvergenceWarning: lbfgs failed to converge (status=1):\n",
      "STOP: TOTAL NO. of ITERATIONS REACHED LIMIT.\n",
      "\n",
      "Increase the number of iterations (max_iter) or scale the data as shown in:\n",
      "    https://scikit-learn.org/stable/modules/preprocessing.html\n",
      "  self.n_iter_ = _check_optimize_result(\"lbfgs\", opt_res, self.max_iter)\n"
     ]
    },
    {
     "data": {
      "text/plain": [
       "array([0.06087937, 0.04847802, 0.04735062, 0.04740406, 0.03837472,\n",
       "       0.05417607, 0.05417607, 0.03837472, 0.05417607, 0.03950339])"
      ]
     },
     "execution_count": 65,
     "metadata": {},
     "output_type": "execute_result"
    }
   ],
   "source": [
    "from sklearn.neural_network import MLPClassifier\n",
    "clf = MLPClassifier(solver='lbfgs', alpha=1e-5, hidden_layer_sizes=(5, 2), random_state=1)\n",
    "scores = cross_val_score(clf, X, Y, cv=10)\n",
    "scores"
   ]
  },
  {
   "cell_type": "markdown",
   "id": "f494a9c0",
   "metadata": {},
   "source": [
    "### 20 depth random forest seems to be the best"
   ]
  },
  {
   "cell_type": "code",
   "execution_count": null,
   "id": "06ea5198",
   "metadata": {},
   "outputs": [],
   "source": []
  }
 ],
 "metadata": {
  "kernelspec": {
   "display_name": "Python 3 (ipykernel)",
   "language": "python",
   "name": "python3"
  },
  "language_info": {
   "codemirror_mode": {
    "name": "ipython",
    "version": 3
   },
   "file_extension": ".py",
   "mimetype": "text/x-python",
   "name": "python",
   "nbconvert_exporter": "python",
   "pygments_lexer": "ipython3",
   "version": "3.9.12"
  }
 },
 "nbformat": 4,
 "nbformat_minor": 5
}
